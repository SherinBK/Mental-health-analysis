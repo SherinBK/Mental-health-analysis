{
 "cells": [
  {
   "cell_type": "markdown",
   "metadata": {},
   "source": [
    "\n",
    "# loading the dataset "
   ]
  },
  {
   "cell_type": "code",
   "execution_count": 1,
   "metadata": {},
   "outputs": [
    {
     "data": {
      "text/html": [
       "<div>\n",
       "<style scoped>\n",
       "    .dataframe tbody tr th:only-of-type {\n",
       "        vertical-align: middle;\n",
       "    }\n",
       "\n",
       "    .dataframe tbody tr th {\n",
       "        vertical-align: top;\n",
       "    }\n",
       "\n",
       "    .dataframe thead th {\n",
       "        text-align: right;\n",
       "    }\n",
       "</style>\n",
       "<table border=\"1\" class=\"dataframe\">\n",
       "  <thead>\n",
       "    <tr style=\"text-align: right;\">\n",
       "      <th></th>\n",
       "      <th>self-employed</th>\n",
       "      <th>number of employees in your company</th>\n",
       "      <th>tech company</th>\n",
       "      <th>company related to IT</th>\n",
       "      <th>employer provide mental health benefits</th>\n",
       "      <th>knowledge about mental healthcare options workplace</th>\n",
       "      <th>employer discussed mental health</th>\n",
       "      <th>employer offer resources to learn about mental health</th>\n",
       "      <th>medical leave from work</th>\n",
       "      <th>comfortable discussing with coworkers</th>\n",
       "      <th>...</th>\n",
       "      <th>feel that treatment interferes with your work</th>\n",
       "      <th>feel that treatment do not interferes with your work</th>\n",
       "      <th>age</th>\n",
       "      <th>gender</th>\n",
       "      <th>country</th>\n",
       "      <th>US state or territory</th>\n",
       "      <th>country of work</th>\n",
       "      <th>US state or territory of work</th>\n",
       "      <th>work position</th>\n",
       "      <th>work remotely</th>\n",
       "    </tr>\n",
       "  </thead>\n",
       "  <tbody>\n",
       "    <tr>\n",
       "      <th>0</th>\n",
       "      <td>0</td>\n",
       "      <td>1 to 5</td>\n",
       "      <td>1.0</td>\n",
       "      <td>NaN</td>\n",
       "      <td>Yes</td>\n",
       "      <td>Yes</td>\n",
       "      <td>No</td>\n",
       "      <td>No</td>\n",
       "      <td>Somewhat difficult</td>\n",
       "      <td>Maybe</td>\n",
       "      <td>...</td>\n",
       "      <td>Sometimes</td>\n",
       "      <td>Often</td>\n",
       "      <td>33</td>\n",
       "      <td>Male</td>\n",
       "      <td>Canada</td>\n",
       "      <td>NaN</td>\n",
       "      <td>Canada</td>\n",
       "      <td>NaN</td>\n",
       "      <td>Back-end Developer</td>\n",
       "      <td>Sometimes</td>\n",
       "    </tr>\n",
       "    <tr>\n",
       "      <th>1</th>\n",
       "      <td>0</td>\n",
       "      <td>1 to 5</td>\n",
       "      <td>1.0</td>\n",
       "      <td>NaN</td>\n",
       "      <td>No</td>\n",
       "      <td>No</td>\n",
       "      <td>No</td>\n",
       "      <td>I don't know</td>\n",
       "      <td>Very easy</td>\n",
       "      <td>Yes</td>\n",
       "      <td>...</td>\n",
       "      <td>Not applicable to me</td>\n",
       "      <td>Not applicable to me</td>\n",
       "      <td>40</td>\n",
       "      <td>male</td>\n",
       "      <td>Netherlands</td>\n",
       "      <td>NaN</td>\n",
       "      <td>Netherlands</td>\n",
       "      <td>NaN</td>\n",
       "      <td>Front-end Developer|Back-end Developer</td>\n",
       "      <td>Sometimes</td>\n",
       "    </tr>\n",
       "    <tr>\n",
       "      <th>2</th>\n",
       "      <td>0</td>\n",
       "      <td>1 to 5</td>\n",
       "      <td>1.0</td>\n",
       "      <td>NaN</td>\n",
       "      <td>Yes</td>\n",
       "      <td>Yes</td>\n",
       "      <td>No</td>\n",
       "      <td>I don't know</td>\n",
       "      <td>I don't know</td>\n",
       "      <td>Maybe</td>\n",
       "      <td>...</td>\n",
       "      <td>Not applicable to me</td>\n",
       "      <td>Not applicable to me</td>\n",
       "      <td>21</td>\n",
       "      <td>male</td>\n",
       "      <td>United Kingdom</td>\n",
       "      <td>NaN</td>\n",
       "      <td>United Kingdom</td>\n",
       "      <td>NaN</td>\n",
       "      <td>Back-end Developer|DevOps/SysAdmin</td>\n",
       "      <td>Never</td>\n",
       "    </tr>\n",
       "  </tbody>\n",
       "</table>\n",
       "<p>3 rows × 31 columns</p>\n",
       "</div>"
      ],
      "text/plain": [
       "   self-employed number of employees in your company  tech company  \\\n",
       "0              0                              1 to 5           1.0   \n",
       "1              0                              1 to 5           1.0   \n",
       "2              0                              1 to 5           1.0   \n",
       "\n",
       "   company related to IT employer provide mental health benefits  \\\n",
       "0                    NaN                                     Yes   \n",
       "1                    NaN                                      No   \n",
       "2                    NaN                                     Yes   \n",
       "\n",
       "  knowledge about mental healthcare options workplace  \\\n",
       "0                                                Yes    \n",
       "1                                                 No    \n",
       "2                                                Yes    \n",
       "\n",
       "  employer discussed mental health  \\\n",
       "0                               No   \n",
       "1                               No   \n",
       "2                               No   \n",
       "\n",
       "  employer offer resources to learn about mental health  \\\n",
       "0                                                 No      \n",
       "1                                       I don't know      \n",
       "2                                       I don't know      \n",
       "\n",
       "  medical leave from work comfortable discussing with coworkers  ...  \\\n",
       "0      Somewhat difficult                                 Maybe  ...   \n",
       "1               Very easy                                   Yes  ...   \n",
       "2            I don't know                                 Maybe  ...   \n",
       "\n",
       "  feel that treatment interferes with your work  \\\n",
       "0                                     Sometimes   \n",
       "1                          Not applicable to me   \n",
       "2                          Not applicable to me   \n",
       "\n",
       "  feel that treatment do not interferes with your work age gender  \\\n",
       "0                                              Often    33   Male   \n",
       "1                               Not applicable to me    40   male   \n",
       "2                               Not applicable to me    21   male   \n",
       "\n",
       "          country US state or territory country of work  \\\n",
       "0          Canada                   NaN          Canada   \n",
       "1     Netherlands                   NaN     Netherlands   \n",
       "2  United Kingdom                   NaN  United Kingdom   \n",
       "\n",
       "  US state or territory of work                           work position  \\\n",
       "0                           NaN                      Back-end Developer   \n",
       "1                           NaN  Front-end Developer|Back-end Developer   \n",
       "2                           NaN      Back-end Developer|DevOps/SysAdmin   \n",
       "\n",
       "  work remotely  \n",
       "0     Sometimes  \n",
       "1     Sometimes  \n",
       "2         Never  \n",
       "\n",
       "[3 rows x 31 columns]"
      ]
     },
     "execution_count": 1,
     "metadata": {},
     "output_type": "execute_result"
    }
   ],
   "source": [
    "import pandas as pd\n",
    "ds = pd.read_csv(r\"C:\\Users\\SHERIN BENNY\\Downloads\\Mental Health Dataset.csv\")\n",
    "ds.head(3)"
   ]
  },
  {
   "cell_type": "code",
   "execution_count": 2,
   "metadata": {},
   "outputs": [
    {
     "data": {
      "text/plain": [
       "(1433, 31)"
      ]
     },
     "execution_count": 2,
     "metadata": {},
     "output_type": "execute_result"
    }
   ],
   "source": [
    "ds.shape"
   ]
  },
  {
   "cell_type": "code",
   "execution_count": 3,
   "metadata": {},
   "outputs": [
    {
     "name": "stdout",
     "output_type": "stream",
     "text": [
      "<class 'pandas.core.frame.DataFrame'>\n",
      "RangeIndex: 1433 entries, 0 to 1432\n",
      "Data columns (total 31 columns):\n",
      " #   Column                                                          Non-Null Count  Dtype  \n",
      "---  ------                                                          --------------  -----  \n",
      " 0   self-employed                                                   1433 non-null   int64  \n",
      " 1   number of employees in your company                             1146 non-null   object \n",
      " 2   tech company                                                    1146 non-null   float64\n",
      " 3   company related to IT                                           263 non-null    float64\n",
      " 4   employer provide mental health benefits                         1146 non-null   object \n",
      " 5   knowledge about mental healthcare options workplace             1013 non-null   object \n",
      " 6   employer discussed mental health                                1146 non-null   object \n",
      " 7   employer offer resources to learn about mental health           1146 non-null   object \n",
      " 8   medical leave from work                                         1146 non-null   object \n",
      " 9   comfortable discussing with coworkers                           1146 non-null   object \n",
      " 10  employer takes mental health as seriously                       1146 non-null   object \n",
      " 11  knowledge on local or online resources                          287 non-null    object \n",
      " 12  productivity affected by a mental health issue                  287 non-null    object \n",
      " 13  percentage of your work time affected by a mental health issue  204 non-null    object \n",
      " 14  openess with friends and family                                 1433 non-null   object \n",
      " 15  family history                                                  1433 non-null   object \n",
      " 16  ever had mental health disorder                                 1433 non-null   object \n",
      " 17  currently have a mental health disorder                         1433 non-null   object \n",
      " 18  diagnosed by a medical professional                             1433 non-null   object \n",
      " 19  type of disorder                                                711 non-null    object \n",
      " 20  sought treatment from a mental health professional              1433 non-null   int64  \n",
      " 21  feel that treatment interferes with your work                   1433 non-null   object \n",
      " 22  feel that treatment do not interferes with your work            1433 non-null   object \n",
      " 23  age                                                             1433 non-null   int64  \n",
      " 24  gender                                                          1430 non-null   object \n",
      " 25  country                                                         1433 non-null   object \n",
      " 26  US state or territory                                           840 non-null    object \n",
      " 27  country of work                                                 1433 non-null   object \n",
      " 28  US state or territory of work                                   851 non-null    object \n",
      " 29  work position                                                   1433 non-null   object \n",
      " 30  work remotely                                                   1433 non-null   object \n",
      "dtypes: float64(2), int64(3), object(26)\n",
      "memory usage: 347.2+ KB\n"
     ]
    }
   ],
   "source": [
    "ds.info()"
   ]
  },
  {
   "cell_type": "code",
   "execution_count": 4,
   "metadata": {},
   "outputs": [
    {
     "data": {
      "text/html": [
       "<div>\n",
       "<style scoped>\n",
       "    .dataframe tbody tr th:only-of-type {\n",
       "        vertical-align: middle;\n",
       "    }\n",
       "\n",
       "    .dataframe tbody tr th {\n",
       "        vertical-align: top;\n",
       "    }\n",
       "\n",
       "    .dataframe thead th {\n",
       "        text-align: right;\n",
       "    }\n",
       "</style>\n",
       "<table border=\"1\" class=\"dataframe\">\n",
       "  <thead>\n",
       "    <tr style=\"text-align: right;\">\n",
       "      <th></th>\n",
       "      <th>no of missing values</th>\n",
       "    </tr>\n",
       "  </thead>\n",
       "  <tbody>\n",
       "    <tr>\n",
       "      <th>self-employed</th>\n",
       "      <td>0</td>\n",
       "    </tr>\n",
       "    <tr>\n",
       "      <th>number of employees in your company</th>\n",
       "      <td>287</td>\n",
       "    </tr>\n",
       "    <tr>\n",
       "      <th>tech company</th>\n",
       "      <td>287</td>\n",
       "    </tr>\n",
       "    <tr>\n",
       "      <th>company related to IT</th>\n",
       "      <td>1170</td>\n",
       "    </tr>\n",
       "    <tr>\n",
       "      <th>employer provide mental health benefits</th>\n",
       "      <td>287</td>\n",
       "    </tr>\n",
       "    <tr>\n",
       "      <th>knowledge about mental healthcare options workplace</th>\n",
       "      <td>420</td>\n",
       "    </tr>\n",
       "    <tr>\n",
       "      <th>employer discussed mental health</th>\n",
       "      <td>287</td>\n",
       "    </tr>\n",
       "    <tr>\n",
       "      <th>employer offer resources to learn about mental health</th>\n",
       "      <td>287</td>\n",
       "    </tr>\n",
       "    <tr>\n",
       "      <th>medical leave from work</th>\n",
       "      <td>287</td>\n",
       "    </tr>\n",
       "    <tr>\n",
       "      <th>comfortable discussing with coworkers</th>\n",
       "      <td>287</td>\n",
       "    </tr>\n",
       "    <tr>\n",
       "      <th>employer takes mental health as seriously</th>\n",
       "      <td>287</td>\n",
       "    </tr>\n",
       "    <tr>\n",
       "      <th>knowledge on local or online resources</th>\n",
       "      <td>1146</td>\n",
       "    </tr>\n",
       "    <tr>\n",
       "      <th>productivity affected by a mental health issue</th>\n",
       "      <td>1146</td>\n",
       "    </tr>\n",
       "    <tr>\n",
       "      <th>percentage of your work time affected by a mental health issue</th>\n",
       "      <td>1229</td>\n",
       "    </tr>\n",
       "    <tr>\n",
       "      <th>openess with friends and family</th>\n",
       "      <td>0</td>\n",
       "    </tr>\n",
       "    <tr>\n",
       "      <th>family history</th>\n",
       "      <td>0</td>\n",
       "    </tr>\n",
       "    <tr>\n",
       "      <th>ever had mental health disorder</th>\n",
       "      <td>0</td>\n",
       "    </tr>\n",
       "    <tr>\n",
       "      <th>currently have a mental health disorder</th>\n",
       "      <td>0</td>\n",
       "    </tr>\n",
       "    <tr>\n",
       "      <th>diagnosed by a medical professional</th>\n",
       "      <td>0</td>\n",
       "    </tr>\n",
       "    <tr>\n",
       "      <th>type of disorder</th>\n",
       "      <td>722</td>\n",
       "    </tr>\n",
       "    <tr>\n",
       "      <th>sought treatment from a mental health professional</th>\n",
       "      <td>0</td>\n",
       "    </tr>\n",
       "    <tr>\n",
       "      <th>feel that treatment interferes with your work</th>\n",
       "      <td>0</td>\n",
       "    </tr>\n",
       "    <tr>\n",
       "      <th>feel that treatment do not interferes with your work</th>\n",
       "      <td>0</td>\n",
       "    </tr>\n",
       "    <tr>\n",
       "      <th>age</th>\n",
       "      <td>0</td>\n",
       "    </tr>\n",
       "    <tr>\n",
       "      <th>gender</th>\n",
       "      <td>3</td>\n",
       "    </tr>\n",
       "    <tr>\n",
       "      <th>country</th>\n",
       "      <td>0</td>\n",
       "    </tr>\n",
       "    <tr>\n",
       "      <th>US state or territory</th>\n",
       "      <td>593</td>\n",
       "    </tr>\n",
       "    <tr>\n",
       "      <th>country of work</th>\n",
       "      <td>0</td>\n",
       "    </tr>\n",
       "    <tr>\n",
       "      <th>US state or territory of work</th>\n",
       "      <td>582</td>\n",
       "    </tr>\n",
       "    <tr>\n",
       "      <th>work position</th>\n",
       "      <td>0</td>\n",
       "    </tr>\n",
       "    <tr>\n",
       "      <th>work remotely</th>\n",
       "      <td>0</td>\n",
       "    </tr>\n",
       "  </tbody>\n",
       "</table>\n",
       "</div>"
      ],
      "text/plain": [
       "                                                    no of missing values\n",
       "self-employed                                                          0\n",
       "number of employees in your company                                  287\n",
       "tech company                                                         287\n",
       "company related to IT                                               1170\n",
       "employer provide mental health benefits                              287\n",
       "knowledge about mental healthcare options workp...                   420\n",
       "employer discussed mental health                                     287\n",
       "employer offer resources to learn about mental ...                   287\n",
       "medical leave from work                                              287\n",
       "comfortable discussing with coworkers                                287\n",
       "employer takes mental health as seriously                            287\n",
       "knowledge on local or online resources                              1146\n",
       "productivity affected by a mental health issue                      1146\n",
       "percentage of your work time affected by a ment...                  1229\n",
       "openess with friends and family                                        0\n",
       "family history                                                         0\n",
       "ever had mental health disorder                                        0\n",
       "currently have a mental health disorder                                0\n",
       "diagnosed by a medical professional                                    0\n",
       "type of disorder                                                     722\n",
       "sought treatment from a mental health professional                     0\n",
       "feel that treatment interferes with your work                          0\n",
       "feel that treatment do not interferes with your...                     0\n",
       "age                                                                    0\n",
       "gender                                                                 3\n",
       "country                                                                0\n",
       "US state or territory                                                593\n",
       "country of work                                                        0\n",
       "US state or territory of work                                        582\n",
       "work position                                                          0\n",
       "work remotely                                                          0"
      ]
     },
     "execution_count": 4,
     "metadata": {},
     "output_type": "execute_result"
    }
   ],
   "source": [
    "columns=ds.columns\n",
    "pd.DataFrame({'no of missing values':ds.isnull().sum()})"
   ]
  },
  {
   "cell_type": "markdown",
   "metadata": {},
   "source": [
    "### Copying the data and dropping unnecessary coloumns\n",
    " "
   ]
  },
  {
   "cell_type": "code",
   "execution_count": 5,
   "metadata": {},
   "outputs": [],
   "source": [
    "ds1 = ds.copy()\n",
    "cols = ['company related to IT','knowledge on local or online resources',\n",
    "        'productivity affected by a mental health issue',\n",
    "        'percentage of your work time affected by a mental health issue',\n",
    "        'US state or territory','US state or territory of work']\n",
    "ds_reduced = ds1.drop(cols,axis = 1)"
   ]
  },
  {
   "cell_type": "code",
   "execution_count": 6,
   "metadata": {
    "scrolled": true
   },
   "outputs": [
    {
     "data": {
      "text/html": [
       "<div>\n",
       "<style scoped>\n",
       "    .dataframe tbody tr th:only-of-type {\n",
       "        vertical-align: middle;\n",
       "    }\n",
       "\n",
       "    .dataframe tbody tr th {\n",
       "        vertical-align: top;\n",
       "    }\n",
       "\n",
       "    .dataframe thead th {\n",
       "        text-align: right;\n",
       "    }\n",
       "</style>\n",
       "<table border=\"1\" class=\"dataframe\">\n",
       "  <thead>\n",
       "    <tr style=\"text-align: right;\">\n",
       "      <th></th>\n",
       "      <th>self-employed</th>\n",
       "      <th>number of employees in your company</th>\n",
       "      <th>tech company</th>\n",
       "      <th>employer provide mental health benefits</th>\n",
       "      <th>knowledge about mental healthcare options workplace</th>\n",
       "      <th>employer discussed mental health</th>\n",
       "      <th>employer offer resources to learn about mental health</th>\n",
       "      <th>medical leave from work</th>\n",
       "      <th>comfortable discussing with coworkers</th>\n",
       "      <th>employer takes mental health as seriously</th>\n",
       "      <th>...</th>\n",
       "      <th>type of disorder</th>\n",
       "      <th>sought treatment from a mental health professional</th>\n",
       "      <th>feel that treatment interferes with your work</th>\n",
       "      <th>feel that treatment do not interferes with your work</th>\n",
       "      <th>age</th>\n",
       "      <th>gender</th>\n",
       "      <th>country</th>\n",
       "      <th>country of work</th>\n",
       "      <th>work position</th>\n",
       "      <th>work remotely</th>\n",
       "    </tr>\n",
       "  </thead>\n",
       "  <tbody>\n",
       "    <tr>\n",
       "      <th>0</th>\n",
       "      <td>0</td>\n",
       "      <td>1 to 5</td>\n",
       "      <td>1.0</td>\n",
       "      <td>Yes</td>\n",
       "      <td>Yes</td>\n",
       "      <td>No</td>\n",
       "      <td>No</td>\n",
       "      <td>Somewhat difficult</td>\n",
       "      <td>Maybe</td>\n",
       "      <td>I don't know</td>\n",
       "      <td>...</td>\n",
       "      <td>Mood Disorder (Depression, Bipolar Disorder, e...</td>\n",
       "      <td>1</td>\n",
       "      <td>Sometimes</td>\n",
       "      <td>Often</td>\n",
       "      <td>33</td>\n",
       "      <td>Male</td>\n",
       "      <td>Canada</td>\n",
       "      <td>Canada</td>\n",
       "      <td>Back-end Developer</td>\n",
       "      <td>Sometimes</td>\n",
       "    </tr>\n",
       "    <tr>\n",
       "      <th>1</th>\n",
       "      <td>0</td>\n",
       "      <td>1 to 5</td>\n",
       "      <td>1.0</td>\n",
       "      <td>No</td>\n",
       "      <td>No</td>\n",
       "      <td>No</td>\n",
       "      <td>I don't know</td>\n",
       "      <td>Very easy</td>\n",
       "      <td>Yes</td>\n",
       "      <td>I don't know</td>\n",
       "      <td>...</td>\n",
       "      <td>Mood Disorder (Depression, Bipolar Disorder, etc)</td>\n",
       "      <td>1</td>\n",
       "      <td>Not applicable to me</td>\n",
       "      <td>Not applicable to me</td>\n",
       "      <td>40</td>\n",
       "      <td>male</td>\n",
       "      <td>Netherlands</td>\n",
       "      <td>Netherlands</td>\n",
       "      <td>Front-end Developer|Back-end Developer</td>\n",
       "      <td>Sometimes</td>\n",
       "    </tr>\n",
       "    <tr>\n",
       "      <th>2</th>\n",
       "      <td>0</td>\n",
       "      <td>1 to 5</td>\n",
       "      <td>1.0</td>\n",
       "      <td>Yes</td>\n",
       "      <td>Yes</td>\n",
       "      <td>No</td>\n",
       "      <td>I don't know</td>\n",
       "      <td>I don't know</td>\n",
       "      <td>Maybe</td>\n",
       "      <td>I don't know</td>\n",
       "      <td>...</td>\n",
       "      <td>NaN</td>\n",
       "      <td>0</td>\n",
       "      <td>Not applicable to me</td>\n",
       "      <td>Not applicable to me</td>\n",
       "      <td>21</td>\n",
       "      <td>male</td>\n",
       "      <td>United Kingdom</td>\n",
       "      <td>United Kingdom</td>\n",
       "      <td>Back-end Developer|DevOps/SysAdmin</td>\n",
       "      <td>Never</td>\n",
       "    </tr>\n",
       "    <tr>\n",
       "      <th>3</th>\n",
       "      <td>0</td>\n",
       "      <td>1 to 5</td>\n",
       "      <td>1.0</td>\n",
       "      <td>No</td>\n",
       "      <td>No</td>\n",
       "      <td>No</td>\n",
       "      <td>No</td>\n",
       "      <td>Very difficult</td>\n",
       "      <td>No</td>\n",
       "      <td>I don't know</td>\n",
       "      <td>...</td>\n",
       "      <td>NaN</td>\n",
       "      <td>0</td>\n",
       "      <td>Often</td>\n",
       "      <td>Often</td>\n",
       "      <td>36</td>\n",
       "      <td>Male</td>\n",
       "      <td>Brazil</td>\n",
       "      <td>Brazil</td>\n",
       "      <td>Back-end Developer</td>\n",
       "      <td>Never</td>\n",
       "    </tr>\n",
       "    <tr>\n",
       "      <th>4</th>\n",
       "      <td>0</td>\n",
       "      <td>1 to 5</td>\n",
       "      <td>0.0</td>\n",
       "      <td>I don't know</td>\n",
       "      <td>No</td>\n",
       "      <td>Yes</td>\n",
       "      <td>No</td>\n",
       "      <td>Very difficult</td>\n",
       "      <td>Yes</td>\n",
       "      <td>I don't know</td>\n",
       "      <td>...</td>\n",
       "      <td>NaN</td>\n",
       "      <td>1</td>\n",
       "      <td>Not applicable to me</td>\n",
       "      <td>Often</td>\n",
       "      <td>36</td>\n",
       "      <td>F</td>\n",
       "      <td>United States of America</td>\n",
       "      <td>United States of America</td>\n",
       "      <td>Other</td>\n",
       "      <td>Sometimes</td>\n",
       "    </tr>\n",
       "  </tbody>\n",
       "</table>\n",
       "<p>5 rows × 25 columns</p>\n",
       "</div>"
      ],
      "text/plain": [
       "   self-employed number of employees in your company  tech company  \\\n",
       "0              0                              1 to 5           1.0   \n",
       "1              0                              1 to 5           1.0   \n",
       "2              0                              1 to 5           1.0   \n",
       "3              0                              1 to 5           1.0   \n",
       "4              0                              1 to 5           0.0   \n",
       "\n",
       "  employer provide mental health benefits  \\\n",
       "0                                     Yes   \n",
       "1                                      No   \n",
       "2                                     Yes   \n",
       "3                                      No   \n",
       "4                            I don't know   \n",
       "\n",
       "  knowledge about mental healthcare options workplace  \\\n",
       "0                                                Yes    \n",
       "1                                                 No    \n",
       "2                                                Yes    \n",
       "3                                                 No    \n",
       "4                                                 No    \n",
       "\n",
       "  employer discussed mental health  \\\n",
       "0                               No   \n",
       "1                               No   \n",
       "2                               No   \n",
       "3                               No   \n",
       "4                              Yes   \n",
       "\n",
       "  employer offer resources to learn about mental health  \\\n",
       "0                                                 No      \n",
       "1                                       I don't know      \n",
       "2                                       I don't know      \n",
       "3                                                 No      \n",
       "4                                                 No      \n",
       "\n",
       "  medical leave from work comfortable discussing with coworkers  \\\n",
       "0      Somewhat difficult                                 Maybe   \n",
       "1               Very easy                                   Yes   \n",
       "2            I don't know                                 Maybe   \n",
       "3          Very difficult                                    No   \n",
       "4          Very difficult                                   Yes   \n",
       "\n",
       "  employer takes mental health as seriously  ...  \\\n",
       "0                              I don't know  ...   \n",
       "1                              I don't know  ...   \n",
       "2                              I don't know  ...   \n",
       "3                              I don't know  ...   \n",
       "4                              I don't know  ...   \n",
       "\n",
       "                                    type of disorder  \\\n",
       "0  Mood Disorder (Depression, Bipolar Disorder, e...   \n",
       "1  Mood Disorder (Depression, Bipolar Disorder, etc)   \n",
       "2                                                NaN   \n",
       "3                                                NaN   \n",
       "4                                                NaN   \n",
       "\n",
       "  sought treatment from a mental health professional  \\\n",
       "0                                                  1   \n",
       "1                                                  1   \n",
       "2                                                  0   \n",
       "3                                                  0   \n",
       "4                                                  1   \n",
       "\n",
       "  feel that treatment interferes with your work  \\\n",
       "0                                     Sometimes   \n",
       "1                          Not applicable to me   \n",
       "2                          Not applicable to me   \n",
       "3                                         Often   \n",
       "4                          Not applicable to me   \n",
       "\n",
       "  feel that treatment do not interferes with your work age gender  \\\n",
       "0                                              Often    33   Male   \n",
       "1                               Not applicable to me    40   male   \n",
       "2                               Not applicable to me    21   male   \n",
       "3                                              Often    36   Male   \n",
       "4                                              Often    36      F   \n",
       "\n",
       "                    country           country of work  \\\n",
       "0                    Canada                    Canada   \n",
       "1               Netherlands               Netherlands   \n",
       "2            United Kingdom            United Kingdom   \n",
       "3                    Brazil                    Brazil   \n",
       "4  United States of America  United States of America   \n",
       "\n",
       "                            work position  work remotely  \n",
       "0                      Back-end Developer      Sometimes  \n",
       "1  Front-end Developer|Back-end Developer      Sometimes  \n",
       "2      Back-end Developer|DevOps/SysAdmin          Never  \n",
       "3                      Back-end Developer          Never  \n",
       "4                                   Other      Sometimes  \n",
       "\n",
       "[5 rows x 25 columns]"
      ]
     },
     "execution_count": 6,
     "metadata": {},
     "output_type": "execute_result"
    }
   ],
   "source": [
    "ds_reduced.head()\n"
   ]
  },
  {
   "cell_type": "markdown",
   "metadata": {},
   "source": [
    "### Cleaning the data by different coloumns\n"
   ]
  },
  {
   "cell_type": "code",
   "execution_count": 7,
   "metadata": {},
   "outputs": [],
   "source": [
    "a=list(ds_reduced.columns)\n",
    "b=['self_employed','no_of_employees','tech_company','mental_healthcare_coverage',\n",
    "  'knowledge_about_mental_healthcare_options_workplace','employer_discussed_mental_health ',\n",
    "  'employer_offer_resources_to_learn_about_mental_health','medical_leave_from_work ',\n",
    "  'comfortable_discussing_with_coworkers','employer_take_mental_health_seriously','openess_of_family_friends',\n",
    "  'family_history_mental_illness','mental_health_disorder_in_past',\n",
    "   'any_current_mental_health_disorder','diagnosed_mental_health_condition',\n",
    "   'type_of_disorder','treatment_from_professional',\n",
    "   'while_effective_treatment_mental_health_issue_interferes_work',\n",
    "  'while_not_effective_treatment_interferes_work ','age','gender','country',\n",
    "  'country work','role_in_company','work_remotely']\n",
    "for i,j in zip(a,b):\n",
    "    ds_reduced.rename(columns={i:j},inplace=True)"
   ]
  },
  {
   "cell_type": "code",
   "execution_count": 8,
   "metadata": {},
   "outputs": [
    {
     "data": {
      "text/plain": [
       "array(['1 to 5', '6 to 25', '26-99', '100-500', '26-100', '500-1000',\n",
       "       'More than 1000', nan], dtype=object)"
      ]
     },
     "execution_count": 8,
     "metadata": {},
     "output_type": "execute_result"
    }
   ],
   "source": [
    "# cleaning the column no_of_employees\n",
    "ds_reduced.no_of_employees.unique()"
   ]
  },
  {
   "cell_type": "code",
   "execution_count": 9,
   "metadata": {},
   "outputs": [],
   "source": [
    "ds_reduced.no_of_employees.replace(to_replace=['1 to 5', '6 to 25','More than 1000','26-99'],\n",
    "                                value=['1-5','6-25','>1000','26-100'],inplace=True)\n"
   ]
  },
  {
   "cell_type": "code",
   "execution_count": 10,
   "metadata": {},
   "outputs": [
    {
     "data": {
      "text/plain": [
       "26-100      326\n",
       ">1000       256\n",
       "100-500     248\n",
       "6-25        176\n",
       "500-1000     80\n",
       "1-5          60\n",
       "Name: no_of_employees, dtype: int64"
      ]
     },
     "execution_count": 10,
     "metadata": {},
     "output_type": "execute_result"
    }
   ],
   "source": [
    "ds_reduced.no_of_employees.value_counts()"
   ]
  },
  {
   "cell_type": "code",
   "execution_count": 11,
   "metadata": {},
   "outputs": [
    {
     "data": {
      "text/plain": [
       "array(['Yes', 'No', \"I don't know\", 'Not eligible for coverage / N/A',\n",
       "       nan], dtype=object)"
      ]
     },
     "execution_count": 11,
     "metadata": {},
     "output_type": "execute_result"
    }
   ],
   "source": [
    "#cleaning the coloumn mental_healthcare_coverage\n",
    "ds_reduced.mental_healthcare_coverage.unique()"
   ]
  },
  {
   "cell_type": "code",
   "execution_count": 12,
   "metadata": {},
   "outputs": [
    {
     "data": {
      "text/plain": [
       "array(['Yes', 'No', \"I don't know\", nan], dtype=object)"
      ]
     },
     "execution_count": 12,
     "metadata": {},
     "output_type": "execute_result"
    }
   ],
   "source": [
    "ds_reduced.mental_healthcare_coverage.replace(to_replace=['Not eligible for coverage / N/A'],\n",
    "                                value='No',inplace=True)\n",
    "ds_reduced.mental_healthcare_coverage.unique()"
   ]
  },
  {
   "cell_type": "code",
   "execution_count": 14,
   "metadata": {},
   "outputs": [
    {
     "data": {
      "text/plain": [
       "array(['Somewhat open', 'Very open', 'Somewhat not open', 'Neutral',\n",
       "       'Not applicable to me (I do not have a mental illness)',\n",
       "       'Not open at all'], dtype=object)"
      ]
     },
     "execution_count": 14,
     "metadata": {},
     "output_type": "execute_result"
    }
   ],
   "source": [
    "#Cleaning openess_of_family_friends column\n",
    "ds_reduced.openess_of_family_friends.unique()"
   ]
  },
  {
   "cell_type": "code",
   "execution_count": 13,
   "metadata": {},
   "outputs": [
    {
     "data": {
      "text/plain": [
       "array(['Somewhat open', 'Very open', 'Somewhat not open', 'Neutral',\n",
       "       \"I don't know\", 'Not open at all'], dtype=object)"
      ]
     },
     "execution_count": 13,
     "metadata": {},
     "output_type": "execute_result"
    }
   ],
   "source": [
    "ds_reduced.openess_of_family_friends.replace(to_replace=['Not applicable to me (I do not have a mental illness)']\n",
    "                                          ,value=\"I don't know\",inplace=True)\n",
    "ds_reduced.openess_of_family_friends.unique()"
   ]
  },
  {
   "cell_type": "code",
   "execution_count": 14,
   "metadata": {},
   "outputs": [],
   "source": [
    "## Cleaning the age column remove outliers\n",
    "med_age = ds_reduced[(ds_reduced['age'] >= 18) | (ds_reduced['age'] <= 75)]['age'].median()\n",
    "ds_reduced['age'].replace(to_replace = ds_reduced[(ds_reduced['age'] < 18) | (ds_reduced['age'] > 75)]['age'].tolist(),\n",
    "                          value = med_age, inplace = True)"
   ]
  },
  {
   "cell_type": "code",
   "execution_count": 15,
   "metadata": {},
   "outputs": [
    {
     "data": {
      "text/plain": [
       "array(['Male', 'male', 'F', 'Transitioned, M2F', 'Other/Transfeminine',\n",
       "       'M', 'female', 'm', 'Female', 'f', 'non-binary', 'woman', 'male ',\n",
       "       'Male ', 'Bigender', 'Genderfluid (born female)',\n",
       "       'male 9:1 female, roughly', 'Male (cis)', 'Other', 'Sex is male',\n",
       "       'genderqueer', 'Human', 'mail', 'Cis-woman',\n",
       "       'female-bodied; no feelings about gender', 'Transgender woman',\n",
       "       'Genderfluid', 'female ', 'Male/genderqueer', 'fem', 'Nonbinary',\n",
       "       ' Female', 'Female ', 'Genderqueer', nan, 'I identify as female.',\n",
       "       'fm', 'Cis female ', 'female/woman', 'Androgynous', 'man',\n",
       "       'nb masculine', 'Cisgender Female', 'Woman', 'Cis Male',\n",
       "       'Female or Multi-Gender Femme', 'Male.', 'Enby', 'Agender',\n",
       "       'Female (props for making this a freeform field, though)',\n",
       "       'cis man', 'Female assigned at birth ', 'Cis male', 'Man',\n",
       "       'none of your business', 'cis male', 'genderqueer woman', 'Queer',\n",
       "       'Dude', 'Male (trans, FtM)', 'cisdude', 'Genderflux demi-girl',\n",
       "       'Malr', 'mtf', 'Fluid',\n",
       "       \"I'm a man why didn't you make this a drop down question. You should of asked sex? And I would of answered yes please. Seriously how much text can this take? \",\n",
       "       'M|', 'human', 'Unicorn', 'AFAB', 'MALE'], dtype=object)"
      ]
     },
     "execution_count": 15,
     "metadata": {},
     "output_type": "execute_result"
    }
   ],
   "source": [
    "## Cleaning the gender column\n",
    "ds_reduced.gender.unique()"
   ]
  },
  {
   "cell_type": "code",
   "execution_count": 16,
   "metadata": {},
   "outputs": [],
   "source": [
    "ds_reduced['gender'].replace(to_replace = ['Male', 'male', 'Male ', 'M', 'm',\n",
    "       'man', 'Cis male', 'Male.', 'male 9:1 female, roughly', 'Male (cis)', 'Man', 'Sex is male',\n",
    "       'cis male', 'Malr', 'Dude', \"I'm a man why didn't you make this a drop down question. You should of asked sex? And I would of answered yes please. Seriously how much text can this take? \",\n",
    "       'mail', 'M|', 'Male/genderqueer', 'male ',\n",
    "       'Cis Male', 'Male (trans, FtM)','cisdude', 'cis man', 'MALE'], value = 'male', inplace = True)\n",
    "ds_reduced['gender'].replace(to_replace = ['Female', 'female', 'I identify as female.', 'female ',\n",
    "       'Female assigned at birth ', 'F', 'Woman', 'fm', 'f', 'Cis female ', 'Transitioned, M2F',\n",
    "       'Genderfluid (born female)', 'Female or Multi-Gender Femme', 'Female ', 'woman', 'female/woman',\n",
    "       'Cisgender Female', 'fem', 'Female (props for making this a freeform field, though)',\n",
    "       ' Female', 'Cis-woman', 'female-bodied; no feelings about gender','AFAB'], value = 'female', inplace = True)\n",
    "ds_reduced['gender'].replace(to_replace = ['Bigender', 'non-binary', 'Other/Transfeminine',\n",
    "       'Androgynous', 'Other', 'nb masculine','none of your business', 'genderqueer', 'Human', 'Genderfluid',\n",
    "       'Enby', 'genderqueer woman', 'mtf', 'Queer', 'Agender', 'Fluid',\n",
    "       'Nonbinary', 'human', 'Unicorn', 'Genderqueer',\n",
    "       'Genderflux demi-girl', 'Transgender woman'], value = 'other', inplace = True)"
   ]
  },
  {
   "cell_type": "code",
   "execution_count": 17,
   "metadata": {},
   "outputs": [
    {
     "data": {
      "text/plain": [
       "array(['male', 'female', 'other', nan], dtype=object)"
      ]
     },
     "execution_count": 17,
     "metadata": {},
     "output_type": "execute_result"
    }
   ],
   "source": [
    "ds_reduced.gender.unique()"
   ]
  },
  {
   "cell_type": "code",
   "execution_count": 18,
   "metadata": {},
   "outputs": [],
   "source": [
    "## Cleaning the role_in_company\n",
    "tech_list = []\n",
    "tech_list.append(ds_reduced[ds_reduced['role_in_company'].str.contains('Back-end')]['role_in_company'].tolist())\n",
    "tech_list.append(ds_reduced[ds_reduced['role_in_company'].str.contains('Front-end')]['role_in_company'].tolist())\n",
    "tech_list.append(ds_reduced[ds_reduced['role_in_company'].str.contains('Dev')]['role_in_company'].tolist())\n",
    "tech_list.append(ds_reduced[ds_reduced['role_in_company'].str.contains('DevOps')]['role_in_company'].tolist())\n",
    "flat_list = [item for sublist in tech_list for item in sublist]\n",
    "flat_list = list(dict.fromkeys(flat_list))\n",
    "\n",
    "# Replace tech role=1 and other=0 in a new tech role operation\n",
    "ds_reduced['tech_role']=ds_reduced['role_in_company']\n",
    "ds_reduced['tech_role'].replace(to_replace=flat_list,value=1,inplace=True)\n",
    "remain_list=ds_reduced['tech_role'].unique()[1:]\n",
    "ds_reduced['tech_role'].replace(to_replace=remain_list,value=0,inplace=True)"
   ]
  },
  {
   "cell_type": "code",
   "execution_count": 19,
   "metadata": {},
   "outputs": [
    {
     "data": {
      "text/plain": [
       "1    1045\n",
       "0     388\n",
       "Name: tech_role, dtype: int64"
      ]
     },
     "execution_count": 19,
     "metadata": {},
     "output_type": "execute_result"
    }
   ],
   "source": [
    "ds_reduced.tech_role.value_counts()"
   ]
  },
  {
   "cell_type": "code",
   "execution_count": 20,
   "metadata": {},
   "outputs": [],
   "source": [
    "ds_reduced=ds_reduced.drop(['role_in_company'],axis=1)"
   ]
  },
  {
   "cell_type": "code",
   "execution_count": 21,
   "metadata": {},
   "outputs": [
    {
     "name": "stdout",
     "output_type": "stream",
     "text": [
      "<class 'pandas.core.frame.DataFrame'>\n",
      "RangeIndex: 1433 entries, 0 to 1432\n",
      "Data columns (total 25 columns):\n",
      " #   Column                                                         Non-Null Count  Dtype  \n",
      "---  ------                                                         --------------  -----  \n",
      " 0   self_employed                                                  1433 non-null   int64  \n",
      " 1   no_of_employees                                                1146 non-null   object \n",
      " 2   tech_company                                                   1146 non-null   float64\n",
      " 3   mental_healthcare_coverage                                     1146 non-null   object \n",
      " 4   knowledge_about_mental_healthcare_options_workplace            1013 non-null   object \n",
      " 5   employer_discussed_mental_health                               1146 non-null   object \n",
      " 6   employer_offer_resources_to_learn_about_mental_health          1146 non-null   object \n",
      " 7   medical_leave_from_work                                        1146 non-null   object \n",
      " 8   comfortable_discussing_with_coworkers                          1146 non-null   object \n",
      " 9   employer_take_mental_health_seriously                          1146 non-null   object \n",
      " 10  openess_of_family_friends                                      1433 non-null   object \n",
      " 11  family_history_mental_illness                                  1433 non-null   object \n",
      " 12  mental_health_disorder_in_past                                 1433 non-null   object \n",
      " 13  any_current_mental_health_disorder                             1433 non-null   object \n",
      " 14  diagnosed_mental_health_condition                              1433 non-null   object \n",
      " 15  type_of_disorder                                               711 non-null    object \n",
      " 16  treatment_from_professional                                    1433 non-null   int64  \n",
      " 17  while_effective_treatment_mental_health_issue_interferes_work  1433 non-null   object \n",
      " 18  while_not_effective_treatment_interferes_work                  1433 non-null   object \n",
      " 19  age                                                            1433 non-null   int64  \n",
      " 20  gender                                                         1430 non-null   object \n",
      " 21  country                                                        1433 non-null   object \n",
      " 22  country work                                                   1433 non-null   object \n",
      " 23  work_remotely                                                  1433 non-null   object \n",
      " 24  tech_role                                                      1433 non-null   int64  \n",
      "dtypes: float64(1), int64(4), object(20)\n",
      "memory usage: 280.0+ KB\n"
     ]
    }
   ],
   "source": [
    "ds_reduced.info()"
   ]
  },
  {
   "cell_type": "markdown",
   "metadata": {},
   "source": [
    "### Handling missing valuses"
   ]
  },
  {
   "cell_type": "code",
   "execution_count": 22,
   "metadata": {},
   "outputs": [],
   "source": [
    "ds_reduced_disorder=ds_reduced['type_of_disorder']\n",
    "ds_reduced=ds_reduced.drop('type_of_disorder',axis=1)"
   ]
  },
  {
   "cell_type": "code",
   "execution_count": 23,
   "metadata": {},
   "outputs": [
    {
     "data": {
      "text/html": [
       "<div>\n",
       "<style scoped>\n",
       "    .dataframe tbody tr th:only-of-type {\n",
       "        vertical-align: middle;\n",
       "    }\n",
       "\n",
       "    .dataframe tbody tr th {\n",
       "        vertical-align: top;\n",
       "    }\n",
       "\n",
       "    .dataframe thead th {\n",
       "        text-align: right;\n",
       "    }\n",
       "</style>\n",
       "<table border=\"1\" class=\"dataframe\">\n",
       "  <thead>\n",
       "    <tr style=\"text-align: right;\">\n",
       "      <th></th>\n",
       "      <th>0</th>\n",
       "    </tr>\n",
       "  </thead>\n",
       "  <tbody>\n",
       "    <tr>\n",
       "      <th>self_employed</th>\n",
       "      <td>0</td>\n",
       "    </tr>\n",
       "    <tr>\n",
       "      <th>no_of_employees</th>\n",
       "      <td>0</td>\n",
       "    </tr>\n",
       "    <tr>\n",
       "      <th>tech_company</th>\n",
       "      <td>0</td>\n",
       "    </tr>\n",
       "    <tr>\n",
       "      <th>mental_healthcare_coverage</th>\n",
       "      <td>0</td>\n",
       "    </tr>\n",
       "    <tr>\n",
       "      <th>knowledge_about_mental_healthcare_options_workplace</th>\n",
       "      <td>0</td>\n",
       "    </tr>\n",
       "    <tr>\n",
       "      <th>employer_discussed_mental_health</th>\n",
       "      <td>0</td>\n",
       "    </tr>\n",
       "    <tr>\n",
       "      <th>employer_offer_resources_to_learn_about_mental_health</th>\n",
       "      <td>0</td>\n",
       "    </tr>\n",
       "    <tr>\n",
       "      <th>medical_leave_from_work</th>\n",
       "      <td>0</td>\n",
       "    </tr>\n",
       "    <tr>\n",
       "      <th>comfortable_discussing_with_coworkers</th>\n",
       "      <td>0</td>\n",
       "    </tr>\n",
       "    <tr>\n",
       "      <th>employer_take_mental_health_seriously</th>\n",
       "      <td>0</td>\n",
       "    </tr>\n",
       "    <tr>\n",
       "      <th>openess_of_family_friends</th>\n",
       "      <td>0</td>\n",
       "    </tr>\n",
       "    <tr>\n",
       "      <th>family_history_mental_illness</th>\n",
       "      <td>0</td>\n",
       "    </tr>\n",
       "    <tr>\n",
       "      <th>mental_health_disorder_in_past</th>\n",
       "      <td>0</td>\n",
       "    </tr>\n",
       "    <tr>\n",
       "      <th>any_current_mental_health_disorder</th>\n",
       "      <td>0</td>\n",
       "    </tr>\n",
       "    <tr>\n",
       "      <th>diagnosed_mental_health_condition</th>\n",
       "      <td>0</td>\n",
       "    </tr>\n",
       "    <tr>\n",
       "      <th>treatment_from_professional</th>\n",
       "      <td>0</td>\n",
       "    </tr>\n",
       "    <tr>\n",
       "      <th>while_effective_treatment_mental_health_issue_interferes_work</th>\n",
       "      <td>0</td>\n",
       "    </tr>\n",
       "    <tr>\n",
       "      <th>while_not_effective_treatment_interferes_work</th>\n",
       "      <td>0</td>\n",
       "    </tr>\n",
       "    <tr>\n",
       "      <th>age</th>\n",
       "      <td>0</td>\n",
       "    </tr>\n",
       "    <tr>\n",
       "      <th>gender</th>\n",
       "      <td>0</td>\n",
       "    </tr>\n",
       "    <tr>\n",
       "      <th>country</th>\n",
       "      <td>0</td>\n",
       "    </tr>\n",
       "    <tr>\n",
       "      <th>country work</th>\n",
       "      <td>0</td>\n",
       "    </tr>\n",
       "    <tr>\n",
       "      <th>work_remotely</th>\n",
       "      <td>0</td>\n",
       "    </tr>\n",
       "    <tr>\n",
       "      <th>tech_role</th>\n",
       "      <td>0</td>\n",
       "    </tr>\n",
       "    <tr>\n",
       "      <th>type_of_disorder</th>\n",
       "      <td>722</td>\n",
       "    </tr>\n",
       "  </tbody>\n",
       "</table>\n",
       "</div>"
      ],
      "text/plain": [
       "                                                      0\n",
       "self_employed                                         0\n",
       "no_of_employees                                       0\n",
       "tech_company                                          0\n",
       "mental_healthcare_coverage                            0\n",
       "knowledge_about_mental_healthcare_options_workp...    0\n",
       "employer_discussed_mental_health                      0\n",
       "employer_offer_resources_to_learn_about_mental_...    0\n",
       "medical_leave_from_work                               0\n",
       "comfortable_discussing_with_coworkers                 0\n",
       "employer_take_mental_health_seriously                 0\n",
       "openess_of_family_friends                             0\n",
       "family_history_mental_illness                         0\n",
       "mental_health_disorder_in_past                        0\n",
       "any_current_mental_health_disorder                    0\n",
       "diagnosed_mental_health_condition                     0\n",
       "treatment_from_professional                           0\n",
       "while_effective_treatment_mental_health_issue_i...    0\n",
       "while_not_effective_treatment_interferes_work         0\n",
       "age                                                   0\n",
       "gender                                                0\n",
       "country                                               0\n",
       "country work                                          0\n",
       "work_remotely                                         0\n",
       "tech_role                                             0\n",
       "type_of_disorder                                    722"
      ]
     },
     "execution_count": 23,
     "metadata": {},
     "output_type": "execute_result"
    }
   ],
   "source": [
    "from sklearn.impute import SimpleImputer\n",
    "import numpy as np\n",
    "imp = SimpleImputer(missing_values=np.nan, strategy='most_frequent')\n",
    "imp.fit(ds_reduced)\n",
    "imp_data=pd.DataFrame(data=imp.transform(ds_reduced),columns=ds_reduced.columns)\n",
    "\n",
    "data=pd.concat([imp_data,ds_reduced_disorder],axis=1)\n",
    "data.isnull().sum().to_frame()"
   ]
  },
  {
   "cell_type": "markdown",
   "metadata": {},
   "source": [
    "## Data Analysis "
   ]
  },
  {
   "cell_type": "code",
   "execution_count": 24,
   "metadata": {},
   "outputs": [],
   "source": [
    "import matplotlib.pyplot as plt\n",
    "import seaborn as sns\n",
    "from scipy import stats\n",
    "from scipy.stats import randint\n",
    "from sklearn.model_selection import train_test_split\n",
    "from sklearn import preprocessing\n",
    "from sklearn.datasets import make_classification\n",
    "from sklearn.preprocessing import binarize, LabelEncoder, MinMaxScaler"
   ]
  },
  {
   "cell_type": "code",
   "execution_count": 25,
   "metadata": {},
   "outputs": [
    {
     "data": {
      "text/plain": [
       "([<matplotlib.patches.Wedge at 0x24404ac1788>,\n",
       "  <matplotlib.patches.Wedge at 0x24404ac91c8>],\n",
       " [Text(-0.018092161764598828, 1.0998512052467295, 'No'),\n",
       "  Text(0.01809216176459845, -1.0998512052467295, 'Yes')],\n",
       " [Text(-0.00986845187159936, 0.5999188392254888, '50.523561%'),\n",
       "  Text(0.009868451871599154, -0.5999188392254888, '49.476439%')])"
      ]
     },
     "execution_count": 25,
     "metadata": {},
     "output_type": "execute_result"
    },
    {
     "data": {
      "image/png": "[encoded data removed]",
      "text/plain": [
       "<Figure size 432x288 with 2 Axes>"
      ]
     },
     "metadata": {},
     "output_type": "display_data"
    }
   ],
   "source": [
    "# Is there a higher chance of mental disorder If a person is self employed  ?\n",
    "\n",
    "plt.subplot(1,2,1)\n",
    "plt.title(\"for self employed\")\n",
    "plt.pie(data[data.self_employed==1]['diagnosed_mental_health_condition'].value_counts(),\n",
    "       autopct='%1f%%',radius=1, \n",
    "       labels=data[data.self_employed==1]['diagnosed_mental_health_condition'].value_counts().index)\n",
    "\n",
    "plt.subplot(1,2,2)\n",
    "plt.title(\"for not self employed\")\n",
    "plt.pie(data[data.self_employed==0]['diagnosed_mental_health_condition'].value_counts(),\n",
    "       autopct='%1f%%',radius=1, \n",
    "       labels=data[data.self_employed==0]['diagnosed_mental_health_condition'].value_counts().index)"
   ]
  },
  {
   "cell_type": "code",
   "execution_count": 26,
   "metadata": {},
   "outputs": [
    {
     "data": {
      "text/plain": [
       "Text(0.5, 1.0, 'Mental health in different size companies')"
      ]
     },
     "execution_count": 26,
     "metadata": {},
     "output_type": "execute_result"
    },
    {
     "data": {
      "image/png": "[encoded data removed]",
      "text/plain": [
       "<Figure size 432x288 with 1 Axes>"
      ]
     },
     "metadata": {
      "needs_background": "light"
     },
     "output_type": "display_data"
    }
   ],
   "source": [
    "#Does big size of the company affect your mental health condition adversely?\n",
    "sns.countplot(data=data,x='no_of_employees',hue='diagnosed_mental_health_condition')\n",
    "plt.title('Mental health in different size companies')\n"
   ]
  },
  {
   "cell_type": "code",
   "execution_count": 27,
   "metadata": {},
   "outputs": [
    {
     "data": {
      "text/plain": [
       "Text(0.5, 1.0, 'Company size vs Health care coverage')"
      ]
     },
     "execution_count": 27,
     "metadata": {},
     "output_type": "execute_result"
    },
    {
     "data": {
      "image/png": "[encoded data removed]",
      "text/plain": [
       "<Figure size 432x288 with 1 Axes>"
      ]
     },
     "metadata": {
      "needs_background": "light"
     },
     "output_type": "display_data"
    }
   ],
   "source": [
    "#Is the large company is more serious about mental health than small companies\n",
    "sns.countplot(data=data,x='no_of_employees',hue='mental_healthcare_coverage')\n",
    "plt.title('Company size vs Health care coverage')"
   ]
  },
  {
   "cell_type": "code",
   "execution_count": 28,
   "metadata": {},
   "outputs": [
    {
     "data": {
      "text/plain": [
       "([<matplotlib.patches.Wedge at 0x24404cec748>,\n",
       "  <matplotlib.patches.Wedge at 0x24404cf0288>],\n",
       " [Text(-0.05834680990910332, 1.0984514781151833, '1'),\n",
       "  Text(0.058346809909102695, -1.0984514781151833, '0')],\n",
       " [Text(-0.03182553267769272, 0.5991553516991909, '51.689190%'),\n",
       "  Text(0.03182553267769238, -0.5991553516991909, '48.310810%')])"
      ]
     },
     "execution_count": 28,
     "metadata": {},
     "output_type": "execute_result"
    },
    {
     "data": {
      "image/png": "[encoded data removed]",
      "text/plain": [
       "<Figure size 432x288 with 2 Axes>"
      ]
     },
     "metadata": {},
     "output_type": "display_data"
    }
   ],
   "source": [
    "#Does providing more health care benefits provide seeking for professional health\n",
    "plt.subplot(1,2,1)\n",
    "plt.title(\"Mental Health Covered\")\n",
    "plt.pie(data[data.mental_healthcare_coverage=='Yes']['treatment_from_professional'].value_counts(),\n",
    "       autopct='%1f%%',radius=1, \n",
    "       labels=data[data.mental_healthcare_coverage=='Yes']['treatment_from_professional'].value_counts().index)\n",
    "\n",
    "plt.subplot(1,2,2)\n",
    "plt.title(\"Mental Health not covered\")\n",
    "plt.pie(data[data.mental_healthcare_coverage=='No']['treatment_from_professional'].value_counts(),\n",
    "       autopct='%1f%%',radius=1, \n",
    "       labels=data[data.mental_healthcare_coverage=='No']['treatment_from_professional'].value_counts().index)"
   ]
  },
  {
   "cell_type": "code",
   "execution_count": 29,
   "metadata": {},
   "outputs": [
    {
     "data": {
      "text/plain": [
       "Text(0.5, 1.0, 'Employers seriousness vs Daignostic Counts')"
      ]
     },
     "execution_count": 29,
     "metadata": {},
     "output_type": "execute_result"
    },
    {
     "data": {
      "image/png": "[encoded data removed]",
      "text/plain": [
       "<Figure size 432x288 with 1 Axes>"
      ]
     },
     "metadata": {
      "needs_background": "light"
     },
     "output_type": "display_data"
    }
   ],
   "source": [
    "#If Employer takes mental health seriously, then will it reduce the chance of positive diagonosis\n",
    "sns.countplot(data=data,x='employer_take_mental_health_seriously',hue='diagnosed_mental_health_condition')\n",
    "plt.title('Employers seriousness vs Daignostic Counts')"
   ]
  },
  {
   "cell_type": "code",
   "execution_count": 30,
   "metadata": {},
   "outputs": [
    {
     "data": {
      "text/plain": [
       "Text(0.5, 1.0, 'Mental health Discussion vs Daignostic Counts')"
      ]
     },
     "execution_count": 30,
     "metadata": {},
     "output_type": "execute_result"
    },
    {
     "data": {
      "image/png": "[encoded data removed]",
      "text/plain": [
       "<Figure size 432x288 with 1 Axes>"
      ]
     },
     "metadata": {
      "needs_background": "light"
     },
     "output_type": "display_data"
    }
   ],
   "source": [
    "#Does the employers discussion on mental health reduces the chance of getting postive diagonised\n",
    "sns.countplot(data=data,x='employer_discussed_mental_health ',hue='diagnosed_mental_health_condition')\n",
    "plt.title('Mental health Discussion vs Daignostic Counts')\n"
   ]
  },
  {
   "cell_type": "code",
   "execution_count": 47,
   "metadata": {},
   "outputs": [
    {
     "data": {
      "text/plain": [
       "Text(0.5, 1.0, 'age VS diagnosis')"
      ]
     },
     "execution_count": 47,
     "metadata": {},
     "output_type": "execute_result"
    },
    {
     "data": {
      "image/png": "[encoded data removed]",
      "text/plain": [
       "<Figure size 1080x360 with 1 Axes>"
      ]
     },
     "metadata": {
      "needs_background": "light"
     },
     "output_type": "display_data"
    }
   ],
   "source": [
    "#Is the chances of getting positively diagonised increases with age\n",
    "plt.figure(figsize=(15,5))\n",
    "sns.countplot(data=data,x='age',hue='diagnosed_mental_health_condition')\n",
    "plt.title('age VS diagnosis')\n"
   ]
  },
  {
   "cell_type": "code",
   "execution_count": 46,
   "metadata": {},
   "outputs": [
    {
     "data": {
      "text/plain": [
       "Text(0.5, 1.0, 'age distribution of data')"
      ]
     },
     "execution_count": 46,
     "metadata": {},
     "output_type": "execute_result"
    },
    {
     "data": {
      "image/png": "[encoded data removed]",
      "text/plain": [
       "<Figure size 864x360 with 1 Axes>"
      ]
     },
     "metadata": {
      "needs_background": "light"
     },
     "output_type": "display_data"
    }
   ],
   "source": [
    "plt.figure(figsize=(12,5))\n",
    "sns.countplot(data=data,x='age')#,hue='diagnosed_mental_health_condition')\n",
    "plt.title('age distribution of data')"
   ]
  },
  {
   "cell_type": "code",
   "execution_count": 29,
   "metadata": {},
   "outputs": [
    {
     "data": {
      "text/plain": [
       "([<matplotlib.patches.Wedge at 0x224d80318c8>,\n",
       "  <matplotlib.patches.Wedge at 0x224d8031e88>],\n",
       " [Text(-0.15000672147010105, 1.089723810657449, 'No'),\n",
       "  Text(0.15000661944279384, -1.089723824702087, 'Yes')],\n",
       " [Text(-0.08182184807460056, 0.5943948058131538, '54.354352%'),\n",
       "  Text(0.08182179242334207, -0.5943948134738656, '45.645645%')])"
      ]
     },
     "execution_count": 29,
     "metadata": {},
     "output_type": "execute_result"
    },
    {
     "data": {
      "image/png": "[encoded data removed]",
      "text/plain": [
       "<Figure size 720x720 with 3 Axes>"
      ]
     },
     "metadata": {},
     "output_type": "display_data"
    }
   ],
   "source": [
    "#Will working remotely helps in betterment of the mental health condition\n",
    "plt.figure(figsize=(10,10))\n",
    "plt.subplot(1,3,1)\n",
    "plt.title(\"Always Remote work\")\n",
    "plt.pie(data[data.work_remotely=='Always']['diagnosed_mental_health_condition'].value_counts(),\n",
    "       autopct='%1f%%',radius=1,\n",
    "       labels=data[data.work_remotely=='Always']['diagnosed_mental_health_condition'].value_counts().index)\n",
    "\n",
    "plt.subplot(1,3,2)\n",
    "plt.title(\"Sometime Remote work\")\n",
    "plt.pie(data[data.work_remotely=='Sometimes']['diagnosed_mental_health_condition'].value_counts(),\n",
    "       autopct='%1f%%',radius=1,\n",
    "       labels=data[data.work_remotely=='Sometimes']['diagnosed_mental_health_condition'].value_counts().index)\n",
    "\n",
    "plt.subplot(1,3,3)\n",
    "plt.title(\"Never Remote work\")\n",
    "plt.pie(data[data.work_remotely=='Never']['diagnosed_mental_health_condition'].value_counts(),\n",
    "       autopct='%1f%%',radius=1,\n",
    "       labels=data[data.work_remotely=='Never']['diagnosed_mental_health_condition'].value_counts().index)"
   ]
  },
  {
   "cell_type": "code",
   "execution_count": 30,
   "metadata": {},
   "outputs": [
    {
     "data": {
      "text/plain": [
       "([<matplotlib.patches.Wedge at 0x224d8108f48>,\n",
       "  <matplotlib.patches.Wedge at 0x224d810d688>],\n",
       " [Text(-0.9829959488654123, 0.49367900959448124, 'Yes'),\n",
       "  Text(0.9829959950869729, -0.4936789175597559, 'No')],\n",
       " [Text(-0.536179608472043, 0.2692794597788079, '85.185188%'),\n",
       "  Text(0.5361796336838033, -0.26927940957804863, '14.814815%')])"
      ]
     },
     "execution_count": 30,
     "metadata": {},
     "output_type": "execute_result"
    },
    {
     "data": {
      "image/png": "[encoded data removed]",
      "text/plain": [
       "<Figure size 576x576 with 3 Axes>"
      ]
     },
     "metadata": {},
     "output_type": "display_data"
    }
   ],
   "source": [
    "#Is there any chance that a other gender category is more positively diagonised than other gender categories\n",
    "plt.figure(figsize=(8,8))\n",
    "plt.subplot(1,3,1)\n",
    "plt.title(\"Male\")\n",
    "plt.pie(data[data.gender=='male']['diagnosed_mental_health_condition'].value_counts(),\n",
    "       autopct='%1f%%',radius=1,\n",
    "       labels=data[data.gender=='male']['diagnosed_mental_health_condition'].value_counts().index)\n",
    "\n",
    "plt.subplot(1,3,2)\n",
    "plt.title(\"Female\")\n",
    "plt.pie(data[data.gender=='female']['diagnosed_mental_health_condition'].value_counts(),\n",
    "       autopct='%1f%%',radius=1,\n",
    "       labels=data[data.gender=='female']['diagnosed_mental_health_condition'].value_counts().index)\n",
    "\n",
    "plt.subplot(1,3,3)\n",
    "plt.title(\"Others\")\n",
    "plt.pie(data[data.gender=='other']['diagnosed_mental_health_condition'].value_counts(),\n",
    "       autopct='%1f%%',radius=1,\n",
    "       labels=data[data.gender=='other']['diagnosed_mental_health_condition'].value_counts().index)"
   ]
  },
  {
   "cell_type": "code",
   "execution_count": 95,
   "metadata": {},
   "outputs": [
    {
     "data": {
      "text/plain": [
       "<matplotlib.axes._subplots.AxesSubplot at 0x22ad7de6188>"
      ]
     },
     "execution_count": 95,
     "metadata": {},
     "output_type": "execute_result"
    },
    {
     "data": {
      "image/png": "[encoded data removed]",
      "text/plain": [
       "<Figure size 720x720 with 1 Axes>"
      ]
     },
     "metadata": {
      "needs_background": "light"
     },
     "output_type": "display_data"
    }
   ],
   "source": [
    "# Which kind of disorder is diagonised most\n",
    "disorder_type=pd.DataFrame(data[data.type_of_disorder.isnull() != True]['type_of_disorder'].str.split(\"|\").tolist()).stack()\n",
    "plt.figure(figsize=(10,10))\n",
    "sns.barplot(x=disorder_type.value_counts()[0:10],y=disorder_type.value_counts().index[0:10])"
   ]
  },
  {
   "cell_type": "code",
   "execution_count": 97,
   "metadata": {},
   "outputs": [
    {
     "data": {
      "text/plain": [
       "([<matplotlib.patches.Wedge at 0x22ad8016348>,\n",
       "  <matplotlib.patches.Wedge at 0x22ad8016ec8>],\n",
       " [Text(-0.2840207786894458, 1.062700426871393, '1'),\n",
       "  Text(0.2840207786894455, -1.062700426871393, '0')],\n",
       " [Text(-0.1549204247396977, 0.579654778293487, '58.312958%'),\n",
       "  Text(0.1549204247396975, -0.5796547782934871, '41.687042%')])"
      ]
     },
     "execution_count": 97,
     "metadata": {},
     "output_type": "execute_result"
    },
    {
     "data": {
      "image/png": "[encoded data removed]",
      "text/plain": [
       "<Figure size 720x720 with 2 Axes>"
      ]
     },
     "metadata": {},
     "output_type": "display_data"
    }
   ],
   "source": [
    "#Does providing more information abo ut mental health increase help seeking behaviour\n",
    "plt.figure(figsize=(10,10))\n",
    "plt.subplot(1,2,1)\n",
    "plt.title(\"Mental Healthcare options Knowledge\")\n",
    "plt.pie(data[data.employer_offer_resources_to_learn_about_mental_health=='Yes']['treatment_from_professional'].value_counts(),\n",
    "       autopct='%1f%%',radius=1, \n",
    "       labels=data[data.employer_offer_resources_to_learn_about_mental_health=='Yes']['treatment_from_professional'].value_counts().index)\n",
    "\n",
    "plt.subplot(1,2,2)\n",
    "plt.title(\"Mental Healthcare options no knowledge\")\n",
    "plt.pie(data[data.employer_offer_resources_to_learn_about_mental_health=='No']['treatment_from_professional'].value_counts(),\n",
    "       autopct='%1f%%',radius=1, \n",
    "       labels=data[data.employer_offer_resources_to_learn_about_mental_health=='No']['treatment_from_professional'].value_counts().index)\n"
   ]
  },
  {
   "cell_type": "code",
   "execution_count": 70,
   "metadata": {},
   "outputs": [
    {
     "data": {
      "text/plain": [
       "Text(0.5, 1.0, 'Family History vs Daignostic Counts')"
      ]
     },
     "execution_count": 70,
     "metadata": {},
     "output_type": "execute_result"
    },
    {
     "data": {
      "image/png": "[encoded data removed]",
      "text/plain": [
       "<Figure size 432x288 with 1 Axes>"
      ]
     },
     "metadata": {
      "needs_background": "light"
     },
     "output_type": "display_data"
    }
   ],
   "source": [
    "#What are the chances that if a person having family history of mental illness then he is diagonised positive\n",
    "sns.countplot(data=data,x='family_history_mental_illness',hue='diagnosed_mental_health_condition')\n",
    "plt.title('Family History vs Daignostic Counts')"
   ]
  },
  {
   "cell_type": "code",
   "execution_count": 73,
   "metadata": {},
   "outputs": [
    {
     "data": {
      "text/plain": [
       "([<matplotlib.patches.Wedge at 0x224d9941c88>,\n",
       "  <matplotlib.patches.Wedge at 0x224d98a4688>,\n",
       "  <matplotlib.patches.Wedge at 0x224d98a4f48>,\n",
       "  <matplotlib.patches.Wedge at 0x224d883c348>,\n",
       "  <matplotlib.patches.Wedge at 0x224d9c92548>,\n",
       "  <matplotlib.patches.Wedge at 0x224d9c241c8>],\n",
       " [Text(0.21807097813164583, 1.078167449191779, 'Somewhat open'),\n",
       "  Text(-1.09854150500076, -0.05662651137643169, \"I don't know\"),\n",
       "  Text(-0.6373633449424054, -0.8965310739309755, 'Very open'),\n",
       "  Text(0.266419245583799, -1.0672491675248847, 'Somewhat not open'),\n",
       "  Text(0.9165788254046539, -0.6081802831560928, 'Neutral'),\n",
       "  Text(1.0908949119861056, -0.14123841900427447, 'Not open at all')],\n",
       " [Text(0.11894780625362497, 0.5880913359227885, '43.647540%'),\n",
       "  Text(-0.5992044572731418, -0.03088718802350819, '14.344262%'),\n",
       "  Text(-0.3476527336049484, -0.48901694941689566, '14.344262%'),\n",
       "  Text(0.14531958850025398, -0.582135909559028, '13.114753%'),\n",
       "  Text(0.4999520865843566, -0.3317346999033233, '10.450820%'),\n",
       "  Text(0.5950335883560576, -0.07703913763869516, '4.098361%')])"
      ]
     },
     "execution_count": 73,
     "metadata": {},
     "output_type": "execute_result"
    },
    {
     "data": {
      "image/png": "[encoded data removed]",
      "text/plain": [
       "<Figure size 720x720 with 2 Axes>"
      ]
     },
     "metadata": {},
     "output_type": "display_data"
    }
   ],
   "source": [
    "#The family where there are history mental health isssues are they open about discussing among family\n",
    "\n",
    "plt.figure(figsize=(10,10))\n",
    "plt.subplot(1,2,1)\n",
    "plt.title(\"Having family history mental illness\")\n",
    "plt.pie(data[data.family_history_mental_illness=='Yes']['openess_of_family_friends'].value_counts(),\n",
    "       autopct='%1f%%',radius=1, \n",
    "       labels=data[data.family_history_mental_illness=='Yes']['openess_of_family_friends'].value_counts().index)\n",
    "plt.subplot(1,2,2)\n",
    "plt.title(\"No family history of mental illness\")\n",
    "plt.pie(data[data.family_history_mental_illness=='No']['openess_of_family_friends'].value_counts(),\n",
    "       autopct='%1f%%',radius=1, \n",
    "       labels=data[data.family_history_mental_illness=='No']['openess_of_family_friends'].value_counts().index)"
   ]
  },
  {
   "cell_type": "code",
   "execution_count": 67,
   "metadata": {},
   "outputs": [
    {
     "data": {
      "text/plain": [
       "Text(0.5, 1.0, 'Openess of Family&Friends vs Daignostic Counts')"
      ]
     },
     "execution_count": 67,
     "metadata": {},
     "output_type": "execute_result"
    },
    {
     "data": {
      "image/png": "[encoded data removed]",
      "text/plain": [
       "<Figure size 576x576 with 1 Axes>"
      ]
     },
     "metadata": {
      "needs_background": "light"
     },
     "output_type": "display_data"
    }
   ],
   "source": [
    "#If family friends are open about the mental health then will it reduce the positive diagonosis\n",
    "plt.figure(figsize=(8,8))\n",
    "sns.countplot(data=data,x='openess_of_family_friends',hue='diagnosed_mental_health_condition')\n",
    "plt.title('Openess of Family&Friends vs Daignostic Counts')"
   ]
  },
  {
   "cell_type": "code",
   "execution_count": 104,
   "metadata": {},
   "outputs": [
    {
     "data": {
      "text/plain": [
       "([<matplotlib.patches.Wedge at 0x22ad892b4c8>,\n",
       "  <matplotlib.patches.Wedge at 0x22ad892e088>],\n",
       " [Text(-0.02303663990543217, 1.0997587522824575, '0'),\n",
       "  Text(0.02303663990543179, -1.0997587522824575, '1')],\n",
       " [Text(-0.012565439948417547, 0.5998684103358859, '50.666666%'),\n",
       "  Text(0.012565439948417339, -0.5998684103358859, '49.333334%')])"
      ]
     },
     "execution_count": 104,
     "metadata": {},
     "output_type": "execute_result"
    },
    {
     "data": {
      "image/png": "[encoded data removed]",
      "text/plain": [
       "<Figure size 720x720 with 3 Axes>"
      ]
     },
     "metadata": {},
     "output_type": "display_data"
    }
   ],
   "source": [
    "#Does willing ness among family memebers increases the chance of seeking more professional help\n",
    "plt.figure(figsize=(10,10))\n",
    "plt.subplot(1,3,1)\n",
    "plt.title(\"Very open family\")\n",
    "plt.pie(data[data.openess_of_family_friends=='Very open']['treatment_from_professional'].value_counts(),\n",
    "       autopct='%1f%%',radius=1,\n",
    "       labels=data[data.openess_of_family_friends=='Very open']['treatment_from_professional'].value_counts().index)\n",
    "plt.subplot(1,3,2)\n",
    "plt.title(\"Somewhat Open family\")\n",
    "plt.pie(data[data.openess_of_family_friends=='Somewhat open']['treatment_from_professional'].value_counts(),\n",
    "       autopct='%1f%%',radius=1,\n",
    "       labels=data[data.openess_of_family_friends=='Somewhat open']['treatment_from_professional'].value_counts().index)\n",
    "plt.subplot(1,3,3)\n",
    "plt.title(\"Not open at all\")\n",
    "plt.pie(data[data.openess_of_family_friends=='Not open at all']['treatment_from_professional'].value_counts(),\n",
    "       autopct='%1f%%',radius=1,\n",
    "       labels=data[data.openess_of_family_friends=='Not open at all']['treatment_from_professional'].value_counts().index)\n"
   ]
  },
  {
   "cell_type": "code",
   "execution_count": 100,
   "metadata": {},
   "outputs": [
    {
     "data": {
      "text/plain": [
       "([<matplotlib.patches.Wedge at 0x22ad8395d88>,\n",
       "  <matplotlib.patches.Wedge at 0x22ad82fe988>],\n",
       " [Text(-1.0754761146685294, 0.2309786283998678, 'No'),\n",
       "  Text(1.0754761092620841, -0.23097865357320332, 'Yes')],\n",
       " [Text(-0.5866233352737433, 0.12598834276356424, '93.265992%'),\n",
       "  Text(0.5866233323247732, -0.1259883564944745, '6.734007%')])"
      ]
     },
     "execution_count": 100,
     "metadata": {},
     "output_type": "execute_result"
    },
    {
     "data": {
      "image/png": "[encoded data removed]",
      "text/plain": [
       "<Figure size 720x720 with 2 Axes>"
      ]
     },
     "metadata": {},
     "output_type": "display_data"
    }
   ],
   "source": [
    "#How many of those who has diagonised positively will seek help of professional\n",
    "\n",
    "plt.figure(figsize=(10,10))\n",
    "plt.subplot(1,2,1)\n",
    "plt.title(\"Taking Help from professional\")\n",
    "plt.pie(data[data.treatment_from_professional==1]['diagnosed_mental_health_condition'].value_counts(),\n",
    "       autopct='%1f%%',radius=1,\n",
    "       labels=data[data.treatment_from_professional==1]['diagnosed_mental_health_condition'].value_counts().index)\n",
    "\n",
    "plt.subplot(1,2,2)\n",
    "plt.title(\"Not taking help from professional\")\n",
    "plt.pie(data[data.treatment_from_professional==0]['diagnosed_mental_health_condition'].value_counts(),\n",
    "       autopct='%1f%%',radius=1,\n",
    "       labels=data[data.treatment_from_professional==0]['diagnosed_mental_health_condition'].value_counts().index)"
   ]
  },
  {
   "cell_type": "markdown",
   "metadata": {},
   "source": [
    "## ML models"
   ]
  },
  {
   "cell_type": "markdown",
   "metadata": {},
   "source": [
    "### Data Preparation"
   ]
  },
  {
   "cell_type": "code",
   "execution_count": 84,
   "metadata": {},
   "outputs": [],
   "source": [
    "# Dropping unnecessary columns\n",
    "y=data.diagnosed_mental_health_condition\n",
    "X=data.drop(['diagnosed_mental_health_condition','treatment_from_professional',\n",
    "               'while_effective_treatment_mental_health_issue_interferes_work',\n",
    "               'while_not_effective_treatment_interferes_work ','type_of_disorder'],axis=1)\n"
   ]
  },
  {
   "cell_type": "code",
   "execution_count": 85,
   "metadata": {},
   "outputs": [],
   "source": [
    "# Splitting the data\n",
    "X_train,X_valid,y_train,y_valid=train_test_split(X,y,train_size=0.8,test_size=0.2,random_state=0)"
   ]
  },
  {
   "cell_type": "code",
   "execution_count": 86,
   "metadata": {},
   "outputs": [
    {
     "name": "stderr",
     "output_type": "stream",
     "text": [
      "C:\\Users\\SHERIN BENNY\\anaconda3\\lib\\site-packages\\numpy\\lib\\arraysetops.py:565: FutureWarning: elementwise comparison failed; returning scalar instead, but in the future will perform elementwise comparison\n",
      "  mask &= (ar1 != a)\n"
     ]
    }
   ],
   "source": [
    "cat_columns=['self_employed', 'no_of_employees', 'tech_company',\n",
    "       'mental_healthcare_coverage',\n",
    "       'knowledge_about_mental_healthcare_options_workplace',\n",
    "       'employer_discussed_mental_health ',\n",
    "       'employer_offer_resources_to_learn_about_mental_health',\n",
    "       'medical_leave_from_work ', 'comfortable_discussing_with_coworkers',\n",
    "       'employer_take_mental_health_seriously', 'openess_of_family_friends',\n",
    "       'family_history_mental_illness', 'mental_health_disorder_in_past',\n",
    "       'any_current_mental_health_disorder', 'age', 'gender', 'country',\n",
    "       'country work', 'work_remotely', 'tech_role']\n",
    "##Label Encode the data \n",
    "from sklearn.preprocessing import LabelEncoder\n",
    "label_encode=LabelEncoder()\n",
    "label_X_train=X_train.copy()\n",
    "label_X_valid=X_valid.copy()\n",
    "\n",
    "for col in cat_columns:\n",
    "    label_X_train[col]=label_encode.fit_transform(X_train[col])\n",
    "    label_X_valid[col] = label_X_valid[col].map(lambda s: '<unknown>' if s not in label_encode.classes_ else s)\n",
    "    label_encode.classes_ = np.append(label_encode.classes_, '<unknown>')\n",
    "    label_X_valid[col] = label_encode.transform(label_X_valid[col])\n",
    "\n",
    "label_y_train=label_encode.fit_transform(y_train)\n",
    "label_y_valid=label_encode.transform(y_valid)"
   ]
  },
  {
   "cell_type": "markdown",
   "metadata": {},
   "source": [
    "#### Random Forest Model"
   ]
  },
  {
   "cell_type": "code",
   "execution_count": 87,
   "metadata": {},
   "outputs": [
    {
     "data": {
      "text/plain": [
       "0.926829268292683"
      ]
     },
     "execution_count": 87,
     "metadata": {},
     "output_type": "execute_result"
    }
   ],
   "source": [
    "from sklearn.ensemble import RandomForestClassifier\n",
    "model=RandomForestClassifier(n_estimators=1000, max_depth=10, random_state=0)\n",
    "model.fit(label_X_train,label_y_train)\n",
    "preds=model.predict(label_X_valid)\n",
    "\n",
    "from sklearn.metrics import accuracy_score\n",
    "accuracy_score(label_y_valid,preds)"
   ]
  },
  {
   "cell_type": "markdown",
   "metadata": {},
   "source": [
    "#### XGBoost classifier"
   ]
  },
  {
   "cell_type": "code",
   "execution_count": 89,
   "metadata": {},
   "outputs": [
    {
     "name": "stdout",
     "output_type": "stream",
     "text": [
      "[14:37:39] WARNING: C:/Users/Administrator/workspace/xgboost-win64_release_1.3.0/src/learner.cc:1061: Starting in XGBoost 1.3.0, the default evaluation metric used with the objective 'binary:logistic' was changed from 'error' to 'logloss'. Explicitly set eval_metric if you'd like to restore the old behavior.\n"
     ]
    },
    {
     "data": {
      "text/plain": [
       "0.8745644599303136"
      ]
     },
     "execution_count": 89,
     "metadata": {},
     "output_type": "execute_result"
    }
   ],
   "source": [
    "from xgboost import XGBClassifier\n",
    "model1=XGBClassifier(n_estimators=1000,learning_rate=0.05)\n",
    "model1.fit(label_X_train,label_y_train)\n",
    "\n",
    "preds1=model1.predict(label_X_valid)\n",
    "accuracy_score(label_y_valid,preds1)"
   ]
  },
  {
   "cell_type": "markdown",
   "metadata": {},
   "source": [
    "#### Random Classifier"
   ]
  },
  {
   "cell_type": "code",
   "execution_count": 92,
   "metadata": {},
   "outputs": [
    {
     "name": "stdout",
     "output_type": "stream",
     "text": [
      "[02:11:29] WARNING: C:/Users/Administrator/workspace/xgboost-win64_release_1.3.0/src/learner.cc:1061: Starting in XGBoost 1.3.0, the default evaluation metric used with the objective 'binary:logistic' was changed from 'error' to 'logloss'. Explicitly set eval_metric if you'd like to restore the old behavior.\n"
     ]
    },
    {
     "data": {
      "text/plain": [
       "0.9303135888501742"
      ]
     },
     "execution_count": 92,
     "metadata": {},
     "output_type": "execute_result"
    }
   ],
   "source": [
    "from xgboost import XGBRFClassifier\n",
    "model2=XGBRFClassifier(n_estimators=1000,learning_rate=0.05)\n",
    "model2.fit(label_X_train,label_y_train)\n",
    "\n",
    "preds2=model2.predict(label_X_valid)\n",
    "accuracy_score(label_y_valid,preds2)"
   ]
  },
  {
   "cell_type": "markdown",
   "metadata": {},
   "source": [
    "#### Logistic Regression"
   ]
  },
  {
   "cell_type": "code",
   "execution_count": 90,
   "metadata": {},
   "outputs": [
    {
     "data": {
      "text/plain": [
       "0.8710801393728222"
      ]
     },
     "execution_count": 90,
     "metadata": {},
     "output_type": "execute_result"
    }
   ],
   "source": [
    "from sklearn.linear_model import LogisticRegression\n",
    "logistic=LogisticRegression(C=1,penalty='l1',solver='liblinear',random_state=0)\n",
    "logistic.fit(label_X_train,label_y_train)\n",
    "preds3=logistic.predict(label_X_valid)\n",
    "accuracy_score(label_y_valid,preds3)"
   ]
  },
  {
   "cell_type": "code",
   "execution_count": null,
   "metadata": {},
   "outputs": [],
   "source": []
  },
  {
   "cell_type": "code",
   "execution_count": null,
   "metadata": {},
   "outputs": [],
   "source": []
  },
  {
   "cell_type": "code",
   "execution_count": null,
   "metadata": {},
   "outputs": [],
   "source": []
  }
 ],
 "metadata": {
  "kernelspec": {
   "display_name": "Python 3",
   "language": "python",
   "name": "python3"
  },
  "language_info": {
   "codemirror_mode": {
    "name": "ipython",
    "version": 3
   },
   "file_extension": ".py",
   "mimetype": "text/x-python",
   "name": "python",
   "nbconvert_exporter": "python",
   "pygments_lexer": "ipython3",
   "version": "3.7.1"
  }
 },
 "nbformat": 4,
 "nbformat_minor": 4
}
